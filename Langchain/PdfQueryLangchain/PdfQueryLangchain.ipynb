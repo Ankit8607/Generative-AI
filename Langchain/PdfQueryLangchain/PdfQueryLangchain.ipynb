{
 "cells": [
  {
   "cell_type": "code",
   "execution_count": 1,
   "metadata": {},
   "outputs": [
    {
     "name": "stdout",
     "output_type": "stream",
     "text": [
      "Collecting PyPDF2\n",
      "  Downloading pypdf2-3.0.1-py3-none-any.whl (232 kB)\n",
      "\u001b[K     |████████████████████████████████| 232 kB 1.5 MB/s eta 0:00:01\n",
      "\u001b[?25hRequirement already satisfied: typing_extensions>=3.10.0.0 in /Users/ankitkumar/Coding/Generative AI/Langchain/venv/lib/python3.9/site-packages (from PyPDF2) (4.10.0)\n",
      "Installing collected packages: PyPDF2\n",
      "Successfully installed PyPDF2-3.0.1\n",
      "\u001b[33mWARNING: You are using pip version 21.2.4; however, version 24.0 is available.\n",
      "You should consider upgrading via the '/Users/ankitkumar/Coding/Generative AI/Langchain/venv/bin/python3 -m pip install --upgrade pip' command.\u001b[0m\n",
      "Collecting faiss-cpu\n",
      "  Downloading faiss_cpu-1.8.0-cp39-cp39-macosx_11_0_arm64.whl (3.1 MB)\n",
      "\u001b[K     |████████████████████████████████| 3.1 MB 1.3 MB/s eta 0:00:01\n",
      "\u001b[?25hRequirement already satisfied: numpy in /Users/ankitkumar/Coding/Generative AI/Langchain/venv/lib/python3.9/site-packages (from faiss-cpu) (1.26.4)\n",
      "Installing collected packages: faiss-cpu\n",
      "Successfully installed faiss-cpu-1.8.0\n",
      "\u001b[33mWARNING: You are using pip version 21.2.4; however, version 24.0 is available.\n",
      "You should consider upgrading via the '/Users/ankitkumar/Coding/Generative AI/Langchain/venv/bin/python3 -m pip install --upgrade pip' command.\u001b[0m\n"
     ]
    }
   ],
   "source": [
    "# !pip install langchain\n",
    "# !pip install openai\n",
    "!pip install PyPDF2\n",
    "!pip install faiss-cpu"
   ]
  },
  {
   "cell_type": "code",
   "execution_count": 2,
   "metadata": {},
   "outputs": [
    {
     "name": "stderr",
     "output_type": "stream",
     "text": [
      "/Users/ankitkumar/Coding/Generative AI/Langchain/venv/lib/python3.9/site-packages/urllib3/__init__.py:35: NotOpenSSLWarning: urllib3 v2 only supports OpenSSL 1.1.1+, currently the 'ssl' module is compiled with 'LibreSSL 2.8.3'. See: https://github.com/urllib3/urllib3/issues/3020\n",
      "  warnings.warn(\n"
     ]
    }
   ],
   "source": [
    "from PyPDF2 import PdfReader\n",
    "from langchain.embeddings.openai import OpenAIEmbeddings\n",
    "from langchain.text_splitter import CharacterTextSplitter\n",
    "from langchain.vectorstores import FAISS"
   ]
  },
  {
   "cell_type": "code",
   "execution_count": 3,
   "metadata": {},
   "outputs": [],
   "source": [
    "import os\n",
    "os.environ[\"OPENAI_API_KEY\"] = \"1234\""
   ]
  },
  {
   "cell_type": "code",
   "execution_count": 5,
   "metadata": {},
   "outputs": [],
   "source": [
    "# provide the path of  pdf file/files.\n",
    "pdfreader = PdfReader('cv.pdf')"
   ]
  },
  {
   "cell_type": "code",
   "execution_count": 6,
   "metadata": {},
   "outputs": [],
   "source": [
    "from typing_extensions import Concatenate\n",
    "# read text from pdf\n",
    "raw_text = ''\n",
    "for i, page in enumerate(pdfreader.pages):\n",
    "    content = page.extract_text()\n",
    "    if content:\n",
    "        raw_text += content"
   ]
  },
  {
   "cell_type": "code",
   "execution_count": 7,
   "metadata": {},
   "outputs": [
    {
     "data": {
      "text/plain": [
       "'Ankit Kumar\\nIIT Kharagpur |+91 8607989881\\nankitsuthar8607@gmail.com\\n\\uf092github |\\uf08clinkedin |Leetcode\\nSUMMARY\\nSoftware developer with a distinct focus on generative AI, eager to transform ideas into intelligent solutions for\\ntomorrow’s challenges\\nEDUCATION\\nIIT KHARAGPUR 2019-present\\nMECHANICAL ENGINEERING (M. TECH DUAL), CGPA: 8.3\\nEXPERIENCE\\nSIMPL, ONE SIGMA TECHNOLOGY Jun’ 23 - Jul’ 23 / Bangalore\\nINTERN AS SOFTWARE DEVELOPER\\n•Ideated and demonstrated AI powered chatbot solution and successfully developed an react native mobile app\\n•Integrated OpenAI’s API and trained on custom data via llama-index and langchain handling 80 % repetitive queries\\n•Deployed code on AWS Lambda and integrated with REST APIs to optimise user interactions & response times\\n•Developed and implemented a robust mobile app referral system to increase user engagement & retention\\nTHE SPARKS FOUNDATION - GRADUATE ROTATIONAL INTERNSHIP PROGRAM Jun’ 21 - Jul’ 21 / Remote\\nINTERN AS DATA SCIENTIST\\n•Predicted optimal cluster number using elbow method , processed dataset using K-Means and got 91% accuracy\\n•Projected stock price and sentiment of market using Numerical and Textual Analysis, achieved an accuracy of 81 %\\n•Applied Linear Regression,Tree based model like Random Forest Regressor algorithms to predict the price of cars\\n•Trained Linear Regressor Model to predict score of students based on extracted features and got 94 % accuracy\\nPROȷECTS\\nPOSE ESTIMATION & BODY MOVEMENT TRACKING Aug’ 23 - Apr’ 23\\n•Utilized Computer Vision andMediaPipe library to achieve real-time detection of various points on human body\\n•Designed and developed an application that observes and corrects human body posture during physical activities\\n•Devised a sophisticated model for analyzing ankle motion to calculate velocity andacceleration during running\\nPORTFOLIO WEBSITE Apr’ 22 - Apr’ 22\\n•Designed a responsive portfolio website utilizing JavaScript to effectively showcase my projects and experiences\\n•Implemented seamless light and dark mode toggling using JavaScript, improving accessibility and user experience\\nUSED CARS PRICE PREDICTION MODEL May’ 21 - Jun’ 21\\n•Built a Python-based price tracker that allows customers to find price of vehicle without visiting multiple websites\\n•Applied Linear Regression,Tree based model like Random Forest Regressor algorithms to predict the price of cars\\n•Created frontend that allow users to quickly obtain the selling price of car by providing the specified car details\\nSKILLS\\nPROGRAMMING LANGUAGES Experienced: C++ |C|Python |Javascript |HTML |CSS |React-Native\\nSOFTWARE DEVELOPMENT DSA |OOPS |GIT|Operating system |AWS |Visual Studio Familiar: Langchain\\nCOMPETITIVE PROGRAMMING Codechef: 1860 (4 stars) |Codeforces: 1428 |Leetcode: 1785 (Highest Ratings)POSITIONS OF RESPONSIBILITY\\nRADHAKRISHNAN HALL OF RESIDENCE Jul’ 22 - Apr’ 23\\nSECOND SENATE MEMBER\\n•Elected by electorate of 600+ students of RK Hall of Residence, led 3-tier council of30student representatives\\n•Secured Gold in Inter Hall General Championship Technology, Social and Cultural and Silver in Sports and Games\\n•Managed budget of INR 24 Lakhs to ensure hall participation in institute events and for welfare of general body\\nRADHAKRISHNAN HALL OF RESIDENCE Jul’ 21 - Apr’ 22\\nGENERAL SECRETARY SPORTS AND GAMES\\n•Led hall to achieve the Gold position in General championship in sports and games after 16 years under my tenure\\n•Channelized efficiently hall sports budget of INR 3,55,125 for activities of sports and games for 600+ boarders\\n•Took initiative to renovate grounds to accelerate the regular practice sessions and conducted comprehensive trials\\nRADHAKRISHNAN HALL OF RESIDENCE Jul’ 21 - Apr’ 22\\nCAPTAIN, ATHLETIC TEAM\\n•Conducted freshers selection for 200+ players and coordinated practice sessions with 30+individuals\\n•Led the team to win silver medal as a team leader in Inter Hall Athletics Gymkhana Championship 2022\\n•Managed a budget of INR 38k for Inter Hall Athletics team’s different activities and provided logistics support\\nENTREPRENEURIAL EXPERIENCE\\nIIT KHARAGPUR Nov’ 19 - Mar’ 20\\nSILVER CROSS | CO-FOUNDER | T-SHIRTS & HOODIES MERCHANDISE\\n•Led as co-founder a startup of customized merchandise that went cash-flow positive in its first month of operations\\n•Served 2500+ customers and clocked a revenue of INR 250K in the operating period by selling 15+different designs\\n•Created and updated allocation reports and traced all orders during shipping, despite many ups and downs\\nAWARDS AND ACHIEVEMENTS\\n•Solved 550+ LeetCode questions, 1785 rating, 50-day badge, and top 2% in hard questions, 280+ contributions\\n•Achieved a top rating of 1860 and global rank 70in May Starter , 2022 and 4 star coder on codechef\\n•Secured Gold medal in the medley relay, and Bronze in 1500m race in Inter Hall Gymkhana Championship 2022\\n•Secured third place in WIN INDIA 2.0 marathon, it spanned 3 days all over India and I covered 105 km\\n•Served as a captain of district-level kabaddi team in Sirsa, Haryana and led the team to the Gold medal in 2016'"
      ]
     },
     "execution_count": 7,
     "metadata": {},
     "output_type": "execute_result"
    }
   ],
   "source": [
    "raw_text"
   ]
  },
  {
   "cell_type": "code",
   "execution_count": 8,
   "metadata": {},
   "outputs": [],
   "source": [
    "# We need to split the text using Character Text Split such that it sshould not increse token size\n",
    "text_splitter = CharacterTextSplitter(\n",
    "    separator = \"\\n\",\n",
    "    chunk_size = 800,\n",
    "    chunk_overlap  = 200,\n",
    "    length_function = len,\n",
    ")\n",
    "texts = text_splitter.split_text(raw_text)"
   ]
  },
  {
   "cell_type": "code",
   "execution_count": 9,
   "metadata": {},
   "outputs": [
    {
     "data": {
      "text/plain": [
       "8"
      ]
     },
     "execution_count": 9,
     "metadata": {},
     "output_type": "execute_result"
    }
   ],
   "source": [
    "len(texts)"
   ]
  },
  {
   "cell_type": "code",
   "execution_count": 10,
   "metadata": {},
   "outputs": [
    {
     "name": "stderr",
     "output_type": "stream",
     "text": [
      "/Users/ankitkumar/Coding/Generative AI/Langchain/venv/lib/python3.9/site-packages/langchain_core/_api/deprecation.py:117: LangChainDeprecationWarning: The class `langchain_community.embeddings.openai.OpenAIEmbeddings` was deprecated in langchain-community 0.0.9 and will be removed in 0.2.0. An updated version of the class exists in the langchain-openai package and should be used instead. To use it run `pip install -U langchain-openai` and import as `from langchain_openai import OpenAIEmbeddings`.\n",
      "  warn_deprecated(\n"
     ]
    }
   ],
   "source": [
    "# Download embeddings from OpenAI\n",
    "embeddings = OpenAIEmbeddings()"
   ]
  },
  {
   "cell_type": "code",
   "execution_count": 11,
   "metadata": {},
   "outputs": [],
   "source": [
    "document_search = FAISS.from_texts(texts, embeddings)"
   ]
  },
  {
   "cell_type": "code",
   "execution_count": 12,
   "metadata": {},
   "outputs": [
    {
     "data": {
      "text/plain": [
       "<langchain_community.vectorstores.faiss.FAISS at 0x110fb3430>"
      ]
     },
     "execution_count": 12,
     "metadata": {},
     "output_type": "execute_result"
    }
   ],
   "source": [
    "document_search"
   ]
  },
  {
   "cell_type": "code",
   "execution_count": 13,
   "metadata": {},
   "outputs": [],
   "source": [
    "from langchain.chains.question_answering import load_qa_chain\n",
    "from langchain.llms import OpenAI"
   ]
  },
  {
   "cell_type": "code",
   "execution_count": 14,
   "metadata": {},
   "outputs": [
    {
     "name": "stderr",
     "output_type": "stream",
     "text": [
      "/Users/ankitkumar/Coding/Generative AI/Langchain/venv/lib/python3.9/site-packages/langchain_core/_api/deprecation.py:117: LangChainDeprecationWarning: The class `langchain_community.llms.openai.OpenAI` was deprecated in langchain-community 0.0.10 and will be removed in 0.2.0. An updated version of the class exists in the langchain-openai package and should be used instead. To use it run `pip install -U langchain-openai` and import as `from langchain_openai import OpenAI`.\n",
      "  warn_deprecated(\n"
     ]
    }
   ],
   "source": [
    "chain = load_qa_chain(OpenAI(), chain_type=\"stuff\")"
   ]
  },
  {
   "cell_type": "code",
   "execution_count": 15,
   "metadata": {},
   "outputs": [
    {
     "name": "stderr",
     "output_type": "stream",
     "text": [
      "/Users/ankitkumar/Coding/Generative AI/Langchain/venv/lib/python3.9/site-packages/langchain_core/_api/deprecation.py:117: LangChainDeprecationWarning: The function `run` was deprecated in LangChain 0.1.0 and will be removed in 0.2.0. Use invoke instead.\n",
      "  warn_deprecated(\n"
     ]
    },
    {
     "data": {
      "text/plain": [
       "' Ankit Kumar'"
      ]
     },
     "execution_count": 15,
     "metadata": {},
     "output_type": "execute_result"
    }
   ],
   "source": [
    "query = \"name the person mentioned here\"\n",
    "docs = document_search.similarity_search(query)\n",
    "chain.run(input_documents=docs, question=query)"
   ]
  },
  {
   "cell_type": "code",
   "execution_count": 16,
   "metadata": {},
   "outputs": [
    {
     "data": {
      "text/plain": [
       "' The person has experience with software development, AI, and data analysis. They have worked on various projects including a portfolio website, body movement tracking application, and a car price prediction model. They have also completed an internship as a data scientist and have experience with programming languages such as Python and JavaScript.'"
      ]
     },
     "execution_count": 16,
     "metadata": {},
     "output_type": "execute_result"
    }
   ],
   "source": [
    "query = \"summarise it\"\n",
    "docs = document_search.similarity_search(query)\n",
    "chain.run(input_documents=docs, question=query)"
   ]
  },
  {
   "cell_type": "code",
   "execution_count": 17,
   "metadata": {},
   "outputs": [
    {
     "data": {
      "text/plain": [
       "' It is mentioned in the context that he was the Captain of the Athletic Team and General Secretary of Sports and Games in Radhakrishnan Hall of Residence. He also served as the captain of a district-level kabaddi team and participated in the WIN INDIA 2.0 marathon. Therefore, he is involved in athletics, kabaddi, and marathon running.'"
      ]
     },
     "execution_count": 17,
     "metadata": {},
     "output_type": "execute_result"
    }
   ],
   "source": [
    "query = \"In which sports activities he is involved\"\n",
    "docs = document_search.similarity_search(query)\n",
    "chain.run(input_documents=docs, question=query)"
   ]
  },
  {
   "cell_type": "code",
   "execution_count": null,
   "metadata": {},
   "outputs": [],
   "source": [
    "from langchain.document_loaders import OnlinePDFLoader\n",
    "\n",
    "loader = OnlinePDFLoader(\"https://arxiv.org/pdf/1706.03762.pdf\")\n",
    "\n",
    "!pip install unstructured\n",
    "\n",
    "data = loader.load()\n",
    "\n",
    "# Download embeddings from OpenAI\n",
    "embeddings = OpenAIEmbeddings()\n",
    "\n",
    "!pip install chromadb\n",
    "\n",
    "from langchain.indexes import VectorstoreIndexCreator\n",
    "index = VectorstoreIndexCreator().from_loaders([loader])\n",
    "\n",
    "query = \"Explain me about Attention is all you need\"\n",
    "index.query(query)"
   ]
  }
 ],
 "metadata": {
  "kernelspec": {
   "display_name": "venv",
   "language": "python",
   "name": "python3"
  },
  "language_info": {
   "codemirror_mode": {
    "name": "ipython",
    "version": 3
   },
   "file_extension": ".py",
   "mimetype": "text/x-python",
   "name": "python",
   "nbconvert_exporter": "python",
   "pygments_lexer": "ipython3",
   "version": "3.9.6"
  }
 },
 "nbformat": 4,
 "nbformat_minor": 2
}
